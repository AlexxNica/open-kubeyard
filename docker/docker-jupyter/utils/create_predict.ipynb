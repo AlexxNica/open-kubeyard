{
 "cells": [
  {
   "cell_type": "code",
   "execution_count": null,
   "metadata": {
    "collapsed": true
   },
   "outputs": [],
   "source": [
    "%%sh\n",
    "# export predict service script to gcs\n",
    "gsutil cp /home/jovyan/work/<path-to-service>/predict-service.py gs://jupyter-storage/<path-in-gcs>/predict-service.py"
   ]
  },
  {
   "cell_type": "code",
   "execution_count": null,
   "metadata": {
    "collapsed": true
   },
   "outputs": [],
   "source": [
    "from kubernetes import client, config"
   ]
  },
  {
   "cell_type": "markdown",
   "metadata": {},
   "source": [
    "## CREATE PREDICT SERVICE"
   ]
  },
  {
   "cell_type": "code",
   "execution_count": null,
   "metadata": {
    "collapsed": true
   },
   "outputs": [],
   "source": [
    "config.load_incluster_config()\n",
    "\n",
    "v1 = client.CoreV1Api()\n",
    "\n",
    "service = client.V1Service()\n",
    "service.metadata = client.V1ObjectMeta(name=\"predict\")\n",
    "\n",
    "spec = client.V1ServiceSpec()\n",
    "spec.type=\"LoadBalancer\"\n",
    "spec.selector = {\"component\" : \"predict\"}\n",
    "\n",
    "ports = client.V1ServicePort(port=5000, target_port=5000)\n",
    "spec.ports = [ports]\n",
    "\n",
    "service.spec = spec\n",
    "\n",
    "v1.create_namespaced_service(namespace=\"kubeyard\", body=service)"
   ]
  },
  {
   "cell_type": "markdown",
   "metadata": {},
   "source": [
    "## CREATE PREDICT POD"
   ]
  },
  {
   "cell_type": "code",
   "execution_count": null,
   "metadata": {
    "collapsed": true
   },
   "outputs": [],
   "source": [
    "config.load_incluster_config()\n",
    "\n",
    "v1 = client.CoreV1Api()\n",
    "\n",
    "pod = client.V1Pod()\n",
    "spec = client.V1PodSpec()\n",
    "pod.metadata = client.V1ObjectMeta(name=\"predict\", labels={\"component\" : \"predict\"})\n",
    "\n",
    "container = client.V1Container()\n",
    "container.image = \"registry.inovex.de:4567/inovex-kubeyard/docker-jupyter:latest\"\n",
    "container.args = [\"/bin/bash\", \"-c\", \"gsutil cp gs://jupyter-storage/<path-in-gcs>/predict-service.py . && ipython -- predict-service.py\"]\n",
    "container.name = \"predict\"\n",
    "container.ports = [client.V1ContainerPort(container_port=5000)]\n",
    "\n",
    "spec.containers = [container]\n",
    "pod.spec = spec\n",
    "\n",
    "v1.create_namespaced_pod(namespace=\"kubeyard\", body=pod)"
   ]
  },
  {
   "cell_type": "markdown",
   "metadata": {
    "collapsed": true
   },
   "source": [
    "## GET SERVICE ENDPOINT"
   ]
  },
  {
   "cell_type": "code",
   "execution_count": null,
   "metadata": {
    "collapsed": true
   },
   "outputs": [],
   "source": [
    "config.load_incluster_config()\n",
    "\n",
    "v1 = client.CoreV1Api()\n",
    "response = v1.read_namespaced_service(name=\"predict\", namespace=\"kubeyard\")\n",
    "\n",
    "print(response.status.load_balancer.ingress[0].ip + \":\" + str(response.spec.ports[0].port))"
   ]
  },
  {
   "cell_type": "markdown",
   "metadata": {},
   "source": [
    "## DELETE PREDICT SERVICE AND POD"
   ]
  },
  {
   "cell_type": "code",
   "execution_count": null,
   "metadata": {
    "collapsed": true
   },
   "outputs": [],
   "source": [
    "config.load_incluster_config()\n",
    "\n",
    "v1 = client.CoreV1Api()\n",
    "\n",
    "#v1.delete_namespaced_pod(name=\"predict\", namespace=\"kubeyard\", body=client.V1DeleteOptions())\n",
    "v1.delete_namespaced_service(name=\"predict\", namespace=\"kubeyard\")"
   ]
  }
 ],
 "metadata": {
  "kernelspec": {
   "display_name": "Python 3",
   "language": "python",
   "name": "python3"
  },
  "language_info": {
   "codemirror_mode": {
    "name": "ipython",
    "version": 3
   },
   "file_extension": ".py",
   "mimetype": "text/x-python",
   "name": "python",
   "nbconvert_exporter": "python",
   "pygments_lexer": "ipython3",
   "version": "3.5.2"
  }
 },
 "nbformat": 4,
 "nbformat_minor": 2
}
