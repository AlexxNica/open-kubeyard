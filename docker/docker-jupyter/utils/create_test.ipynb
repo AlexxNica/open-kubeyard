{
 "cells": [
  {
   "cell_type": "code",
   "execution_count": null,
   "metadata": {
    "collapsed": true
   },
   "outputs": [],
   "source": [
    "%%sh\n",
    "# export test service to gcs\n",
    "gsutil cp /home/jovyan/work/<path-to-service>/test-service.py gs://jupyter-storage/<path-in-gcs>/test-service.py"
   ]
  },
  {
   "cell_type": "code",
   "execution_count": null,
   "metadata": {
    "collapsed": true
   },
   "outputs": [],
   "source": [
    "from kubernetes import client, config"
   ]
  },
  {
   "cell_type": "markdown",
   "metadata": {},
   "source": [
    "### CREATE TEST POD"
   ]
  },
  {
   "cell_type": "code",
   "execution_count": null,
   "metadata": {
    "collapsed": true
   },
   "outputs": [],
   "source": [
    "config.load_incluster_config()\n",
    "\n",
    "v1 = client.CoreV1Api()\n",
    "\n",
    "pod = client.V1Pod()\n",
    "spec = client.V1PodSpec()\n",
    "pod.metadata = client.V1ObjectMeta(name=\"test\")\n",
    "\n",
    "container = client.V1Container()\n",
    "container.image = \"registry.inovex.de:4567/inovex-kubeyard/docker-jupyter:latest\"\n",
    "container.args = [\"/bin/bash\", \"-c\", \"gsutil cp gs://jupyter-storage/<path-in-gcs>/test-service.py . && ipython -- test-service.py\"]\n",
    "container.name = \"test\"\n",
    "\n",
    "spec.containers = [container]\n",
    "pod.spec = spec\n",
    "\n",
    "v1.create_namespaced_pod(namespace=\"kubeyard\", body=pod)"
   ]
  },
  {
   "cell_type": "markdown",
   "metadata": {
    "collapsed": true
   },
   "source": [
    "## READ POD LOG"
   ]
  },
  {
   "cell_type": "code",
   "execution_count": null,
   "metadata": {
    "collapsed": true
   },
   "outputs": [],
   "source": [
    "config.load_incluster_config()\n",
    "\n",
    "v1 = client.CoreV1Api()\n",
    "response = v1.read_namespaced_pod_log(name=\"test\", namespace=\"kubeyard\")\n",
    "\n",
    "print(response)"
   ]
  },
  {
   "cell_type": "markdown",
   "metadata": {},
   "source": [
    "## DELETE TEST POD"
   ]
  },
  {
   "cell_type": "code",
   "execution_count": null,
   "metadata": {
    "collapsed": true
   },
   "outputs": [],
   "source": [
    "config.load_incluster_config()\n",
    "\n",
    "v1 = client.CoreV1Api()\n",
    "\n",
    "v1.delete_namespaced_pod(name=\"test\", namespace=\"kubeyard\", body=client.V1DeleteOptions())"
   ]
  }
 ],
 "metadata": {
  "kernelspec": {
   "display_name": "Python 3",
   "language": "python",
   "name": "python3"
  },
  "language_info": {
   "codemirror_mode": {
    "name": "ipython",
    "version": 3
   },
   "file_extension": ".py",
   "mimetype": "text/x-python",
   "name": "python",
   "nbconvert_exporter": "python",
   "pygments_lexer": "ipython3",
   "version": "3.5.2"
  }
 },
 "nbformat": 4,
 "nbformat_minor": 2
}
