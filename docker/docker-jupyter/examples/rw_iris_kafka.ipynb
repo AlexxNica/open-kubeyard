{
 "cells": [
  {
   "cell_type": "markdown",
   "metadata": {},
   "source": [
    "## Write iris.csv to a Kafka topic"
   ]
  },
  {
   "cell_type": "code",
   "execution_count": null,
   "metadata": {
    "scrolled": true
   },
   "outputs": [],
   "source": [
    "from kafka import KafkaProducer\n",
    "import avro\n",
    "from avro import schema\n",
    "from avro import io\n",
    "import io, random\n",
    "import csv\n",
    "\n",
    "producer = KafkaProducer(bootstrap_servers=['kafka:9092'])\n",
    " \n",
    "topic = \"iris\"\n",
    "\n",
    "schema = avro.schema.Parse('{\"type\":\"record\",\"name\":\"Iris\",\"namespace\":\"org.apache.samoa.avro.iris\",\"fields\":[{\"name\":\"sepallength\",\"type\":\"double\"},{\"name\":\"sepalwidth\",\"type\":\"double\"},{\"name\":\"petallength\",\"type\":\"double\"},{\"name\":\"petalwidth\",\"type\":\"double\"},{\"name\":\"class\",\"type\":{\"type\":\"enum\",\"name\":\"Labels\",\"symbols\":[\"Iris-setosa\",\"Iris-versicolor\",\"Iris-virginica\"]}}]}')\n",
    "\n",
    "with open('/home/jovyan/work/datasets/iris-dataset/iris.data', 'r') as csvfile:\n",
    "    reader = csv.reader(csvfile, delimiter=',', quotechar='|')\n",
    "    writer = avro.io.DatumWriter(schema)\n",
    "    for row in reader:\n",
    "        bytes_writer = io.BytesIO()\n",
    "        encoder = avro.io.BinaryEncoder(bytes_writer)\n",
    "        writer.write({\"sepallength\":float(row[0]), \"sepalwidth\":float(row[1]), \"petallength\":float(row[2]), \"petalwidth\":float(row[3]), \"class\":row[4]}, encoder)\n",
    "        raw_bytes = bytes_writer.getvalue()\n",
    "        producer.send(topic, raw_bytes)"
   ]
  },
  {
   "cell_type": "markdown",
   "metadata": {},
   "source": [
    "## Read iris.csv from a Kafka topic"
   ]
  },
  {
   "cell_type": "code",
   "execution_count": null,
   "metadata": {},
   "outputs": [],
   "source": [
    "from kafka import KafkaConsumer\n",
    "import avro\n",
    "from avro import schema\n",
    "from avro import io\n",
    "import io\n",
    "import csv\n",
    "\n",
    "topic = 'iris'\n",
    "\n",
    "consumer = KafkaConsumer(topic,\n",
    "                         bootstrap_servers=['kafka:9092'],\n",
    "                         auto_offset_reset='smallest',\n",
    "                         consumer_timeout_ms=2000)\n",
    "\n",
    "schema = avro.schema.Parse('{\"type\":\"record\",\"name\":\"Iris\",\"namespace\":\"org.apache.samoa.avro.iris\",\"fields\":[{\"name\":\"sepallength\",\"type\":\"double\"},{\"name\":\"sepalwidth\",\"type\":\"double\"},{\"name\":\"petallength\",\"type\":\"double\"},{\"name\":\"petalwidth\",\"type\":\"double\"},{\"name\":\"class\",\"type\":{\"type\":\"enum\",\"name\":\"Labels\",\"symbols\":[\"Iris-setosa\",\"Iris-versicolor\",\"Iris-virginica\"]}}]}')\n",
    "\n",
    "with open('iris.csv', 'w+') as csvfile:\n",
    "    writer = csv.writer(csvfile, delimiter=',')\n",
    "    writer.writerow(['sepallength','sepalwidth','petallength','petalwidth','class'])\n",
    "    for msg in consumer:\n",
    "        bytes_reader = io.BytesIO(msg.value)\n",
    "        decoder = avro.io.BinaryDecoder(bytes_reader)\n",
    "        reader = avro.io.DatumReader(schema)\n",
    "        row = reader.read(decoder)\n",
    "        writer.writerow([row['sepallength'], row['sepalwidth'], row['petallength'], row['petalwidth'], row['class']])\n",
    "        "
   ]
  }
 ],
 "metadata": {
  "kernelspec": {
   "display_name": "Python 3",
   "language": "python",
   "name": "python3"
  },
  "language_info": {
   "codemirror_mode": {
    "name": "ipython",
    "version": 3
   },
   "file_extension": ".py",
   "mimetype": "text/x-python",
   "name": "python",
   "nbconvert_exporter": "python",
   "pygments_lexer": "ipython3",
   "version": "3.5.2"
  }
 },
 "nbformat": 4,
 "nbformat_minor": 2
}
